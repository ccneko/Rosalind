{
 "cells": [
  {
   "cell_type": "code",
   "execution_count": 5,
   "metadata": {
    "collapsed": false
   },
   "outputs": [
    {
     "ename": "NameError",
     "evalue": "global name 'seqname' is not defined",
     "output_type": "error",
     "traceback": [
      "\u001b[1;31m---------------------------------------------------------------------------\u001b[0m",
      "\u001b[1;31mNameError\u001b[0m                                 Traceback (most recent call last)",
      "\u001b[1;32m<ipython-input-5-e72901d33896>\u001b[0m in \u001b[0;36m<module>\u001b[1;34m()\u001b[0m\n\u001b[0;32m     28\u001b[0m         \u001b[1;32mreturn\u001b[0m \u001b[0medges\u001b[0m\u001b[1;33m\u001b[0m\u001b[0m\n\u001b[0;32m     29\u001b[0m \u001b[1;33m\u001b[0m\u001b[0m\n\u001b[1;32m---> 30\u001b[1;33m \u001b[0mf\u001b[0m \u001b[1;33m=\u001b[0m \u001b[0mreadFASTA\u001b[0m\u001b[1;33m(\u001b[0m\u001b[1;34m'data/rosalind_grph.txt'\u001b[0m\u001b[1;33m)\u001b[0m\u001b[1;33m\u001b[0m\u001b[0m\n\u001b[0m\u001b[0;32m     31\u001b[0m \u001b[1;32mwith\u001b[0m \u001b[0mopen\u001b[0m\u001b[1;33m(\u001b[0m\u001b[1;34m'edges.txt'\u001b[0m\u001b[1;33m,\u001b[0m\u001b[1;34m'w'\u001b[0m\u001b[1;33m)\u001b[0m \u001b[1;32mas\u001b[0m \u001b[0me\u001b[0m\u001b[1;33m:\u001b[0m\u001b[1;33m\u001b[0m\u001b[0m\n\u001b[0;32m     32\u001b[0m         \u001b[0me\u001b[0m\u001b[1;33m.\u001b[0m\u001b[0mwrite\u001b[0m\u001b[1;33m(\u001b[0m\u001b[1;34m'\\n'\u001b[0m\u001b[1;33m.\u001b[0m\u001b[0mjoin\u001b[0m\u001b[1;33m(\u001b[0m\u001b[0medge\u001b[0m\u001b[1;33m(\u001b[0m\u001b[0mf\u001b[0m\u001b[1;33m[\u001b[0m\u001b[1;36m0\u001b[0m\u001b[1;33m]\u001b[0m\u001b[1;33m,\u001b[0m\u001b[0mf\u001b[0m\u001b[1;33m[\u001b[0m\u001b[1;36m1\u001b[0m\u001b[1;33m]\u001b[0m\u001b[1;33m,\u001b[0m\u001b[1;36m3\u001b[0m\u001b[1;33m)\u001b[0m\u001b[1;33m)\u001b[0m\u001b[1;33m)\u001b[0m\u001b[1;33m\u001b[0m\u001b[0m\n",
      "\u001b[1;32mA:\\Claire\\GitHub\\Rosalind\\rosa_util.py\u001b[0m in \u001b[0;36mreadFASTA\u001b[1;34m(FASTA)\u001b[0m\n\u001b[0;32m     85\u001b[0m                         \u001b[1;32mif\u001b[0m \u001b[0mline\u001b[0m\u001b[1;33m[\u001b[0m\u001b[1;36m0\u001b[0m\u001b[1;33m]\u001b[0m \u001b[1;33m==\u001b[0m \u001b[1;34m'>'\u001b[0m\u001b[1;33m:\u001b[0m\u001b[1;33m\u001b[0m\u001b[0m\n\u001b[0;32m     86\u001b[0m                                 \u001b[0mseqnamelist\u001b[0m\u001b[1;33m.\u001b[0m\u001b[0mappend\u001b[0m\u001b[1;33m(\u001b[0m\u001b[0mline\u001b[0m\u001b[1;33m.\u001b[0m\u001b[0mrstrip\u001b[0m\u001b[1;33m(\u001b[0m\u001b[1;33m)\u001b[0m\u001b[1;33m[\u001b[0m\u001b[1;36m1\u001b[0m\u001b[1;33m:\u001b[0m\u001b[1;33m]\u001b[0m\u001b[1;33m)\u001b[0m\u001b[1;33m\u001b[0m\u001b[0m\n\u001b[1;32m---> 87\u001b[1;33m                                 \u001b[1;32mif\u001b[0m \u001b[0mlen\u001b[0m\u001b[1;33m(\u001b[0m\u001b[0mseqname\u001b[0m\u001b[1;33m)\u001b[0m \u001b[1;33m>\u001b[0m \u001b[1;36m1\u001b[0m\u001b[1;33m:\u001b[0m\u001b[1;33m\u001b[0m\u001b[0m\n\u001b[0m\u001b[0;32m     88\u001b[0m                                         \u001b[0mseqlist\u001b[0m\u001b[1;33m.\u001b[0m\u001b[0mappend\u001b[0m\u001b[1;33m(\u001b[0m\u001b[0mtemp\u001b[0m\u001b[1;33m)\u001b[0m\u001b[1;33m\u001b[0m\u001b[0m\n\u001b[0;32m     89\u001b[0m                                 \u001b[0mtemp\u001b[0m \u001b[1;33m=\u001b[0m \u001b[1;34m''\u001b[0m\u001b[1;33m\u001b[0m\u001b[0m\n",
      "\u001b[1;31mNameError\u001b[0m: global name 'seqname' is not defined"
     ]
    }
   ],
   "source": [
    "#!/usr/env\n",
    "from rosa_util import *\n",
    "#get O3 from FASTA\n",
    "\n",
    "def edge(seqnamelist,seqlist,k):\n",
    "\tedges = []\n",
    "\ttmpset = set()\n",
    "\tfor i in range(len(seqnamelist)):\n",
    "\t\tfor j in range(len(seqnamelist)):\n",
    "\t\t\t# check if the suffix k-mer of the i-th sequence = the prefix of the j-th\n",
    "\t\t\tif seqlist[i][-k:] == seqlist[j][:k]:\n",
    "\t\t\t\t# ensure the two sequences are not the same\n",
    "\t\t\t\ttmpset = set([seqnamelist[i],seqnamelist[j]])\n",
    "\t\t\t\tif len(seqlist[i]) != len(seqlist[j]):\n",
    "\t\t\t\t\t# check not duplicated\n",
    "\t\t\t\t\tif tmpset not in edges:\n",
    "\t\t\t\t\t\tprint seqnamelist[i]+' '+seqnamelist[j]\n",
    "\t\t\t\t\t\twriteResult(seqnamelist[i]+' '+seqnamelist[j]+'\\n')\n",
    "\t\t\t\t\t\tedges.append(tmpset)\n",
    "\t\t\t\telse:\n",
    "\t\t\t\t\tfor p in range(len(seqlist[i])):\n",
    "\t\t\t\t\t\tif seqlist[i][p] != seqlist[j][p]:\n",
    "\t\t\t\t\t\t\tif tmpset not in edges:\n",
    "\t\t\t\t\t\t\t\tprint seqnamelist[i]+' '+seqnamelist[j]\n",
    "\t\t\t\t\t\t\t\twriteResult(seqnamelist[i]+' '+seqnamelist[j]+'\\n')\n",
    "\t\t\t\t\t\t\t\tedges.append(tmpset)\n",
    "\t\t\t\t\t\t\tbreak\n",
    "\treturn edges\n",
    "\n",
    "f = readFASTA('data/rosalind_grph.txt')\n",
    "with open('edges.txt','w') as e:\n",
    "\te.write('\\n'.join(edge(f[0],f[1],3)))\n"
   ]
  },
  {
   "cell_type": "code",
   "execution_count": null,
   "metadata": {
    "collapsed": true
   },
   "outputs": [],
   "source": []
  }
 ],
 "metadata": {
  "kernelspec": {
   "display_name": "Python 2",
   "language": "python",
   "name": "python2"
  },
  "language_info": {
   "codemirror_mode": {
    "name": "ipython",
    "version": 2
   },
   "file_extension": ".py",
   "mimetype": "text/x-python",
   "name": "python",
   "nbconvert_exporter": "python",
   "pygments_lexer": "ipython2",
   "version": "2.7.10"
  }
 },
 "nbformat": 4,
 "nbformat_minor": 0
}
